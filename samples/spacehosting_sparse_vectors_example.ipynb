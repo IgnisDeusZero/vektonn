{
 "cells": [
  {
   "cell_type": "code",
   "execution_count": 1,
   "metadata": {},
   "outputs": [],
   "source": [
    "import pandas as pd\n",
    "import numpy as np\n",
    "import requests\n",
    "import json\n",
    "import seaborn as sns\n",
    "\n",
    "from os.path import join\n",
    "\n",
    "%matplotlib inline"
   ]
  },
  {
   "cell_type": "markdown",
   "metadata": {},
   "source": [
    "# Intro\n",
    "\n",
    "We're using [this dataset](https://www.kaggle.com/zygmunt/goodbooks-10k) for understanding how to work with sparse vectors in SpaseHosting. \n",
    "\n",
    "## Start Docker locally with SpaceHosting container inside\n",
    "\n",
    "1. Take appropriate for you version of Docker from [official site](https://www.docker.com/products/docker-desktop), install and run it.\n",
    "\n",
    "2. Clone SpaceHosting repo:  \n",
    "```\n",
    "git clone https://github.com/kontur-model-ops/space-hosting.git \n",
    "```\n",
    "\n",
    "3. Run container with SpaceHosting instance:  \n",
    "```\n",
    "cd space-hosting \n",
    "./docker-compose-up.sh\n",
    "```\n",
    "\n",
    "4. Open `http://localhost:8080/index.html` to check if SpaceHosting is running."
   ]
  },
  {
   "cell_type": "markdown",
   "metadata": {},
   "source": [
    "# Data preparation and tiny EDA\n",
    "\n",
    "All files from the dataset are supposed to be stored in `data` folder."
   ]
  },
  {
   "cell_type": "code",
   "execution_count": 2,
   "metadata": {},
   "outputs": [],
   "source": [
    "path_to_books = 'data'\n",
    "path_to_spacehosting_data = '.data-samples'"
   ]
  },
  {
   "cell_type": "code",
   "execution_count": 3,
   "metadata": {},
   "outputs": [
    {
     "data": {
      "text/plain": [
       "((10000, 23), (981756, 3))"
      ]
     },
     "execution_count": 3,
     "metadata": {},
     "output_type": "execute_result"
    }
   ],
   "source": [
    "books_meta = pd.read_csv(join(path_to_books, 'books.csv')).fillna('')\n",
    "ratings = pd.read_csv(join(path_to_books, 'ratings.csv'))\n",
    "\n",
    "books_meta.shape, ratings.shape"
   ]
  },
  {
   "cell_type": "code",
   "execution_count": 4,
   "metadata": {},
   "outputs": [
    {
     "data": {
      "text/plain": [
       "(10000, 53424)"
      ]
     },
     "execution_count": 4,
     "metadata": {},
     "output_type": "execute_result"
    }
   ],
   "source": [
    "ratings['book_id'].nunique(), ratings['user_id'].nunique()"
   ]
  },
  {
   "cell_type": "code",
   "execution_count": 5,
   "metadata": {},
   "outputs": [
    {
     "data": {
      "image/png": "[encoded data removed]",
      "text/plain": [
       "<Figure size 432x288 with 1 Axes>"
      ]
     },
     "metadata": {
      "needs_background": "light"
     },
     "output_type": "display_data"
    }
   ],
   "source": [
    "sns.countplot(x='rating', data=ratings);"
   ]
  },
  {
   "cell_type": "code",
   "execution_count": 6,
   "metadata": {},
   "outputs": [
    {
     "name": "stdout",
     "output_type": "stream",
     "text": [
      "Average number of user ratings:  8.0\n",
      "Average number of book ratings:  100.0\n"
     ]
    }
   ],
   "source": [
    "avg_user_n_ratings = ratings.groupby('user_id')['book_id'].agg('count').median()\n",
    "avg_book_n_ratings = ratings.groupby('book_id')['user_id'].agg('count').median()\n",
    "\n",
    "print('Average number of user ratings: ', avg_user_n_ratings)\n",
    "print('Average number of book ratings: ', avg_book_n_ratings)"
   ]
  },
  {
   "cell_type": "code",
   "execution_count": 7,
   "metadata": {},
   "outputs": [
    {
     "data": {
      "text/plain": [
       "(53424, 10000)"
      ]
     },
     "execution_count": 7,
     "metadata": {},
     "output_type": "execute_result"
    }
   ],
   "source": [
    "# Make a pivot table for user and books.\n",
    "pivot = ratings.pivot_table(index=['user_id'], columns=['book_id'], values='rating')\n",
    "pivot.shape"
   ]
  },
  {
   "cell_type": "code",
   "execution_count": 8,
   "metadata": {},
   "outputs": [],
   "source": [
    "# Ratings have to be normalized because different books have different average ratings.\n",
    "pivot_normalized = pivot.apply(lambda x: (x - np.mean(x)) / (np.max(x) - np.min(x)), axis=1)"
   ]
  },
  {
   "cell_type": "code",
   "execution_count": 9,
   "metadata": {},
   "outputs": [
    {
     "data": {
      "text/plain": [
       "(10000, 47018)"
      ]
     },
     "execution_count": 9,
     "metadata": {},
     "output_type": "execute_result"
    }
   ],
   "source": [
    "# It will be better to remove users who didn't rate books because they don't affect on recommendations.\n",
    "pivot_normalized.fillna(0, inplace=True)\n",
    "pivot_normalized = pivot_normalized.T\n",
    "pivot_normalized = pivot_normalized.loc[:, (pivot_normalized != 0).any(axis=0)]\n",
    "\n",
    "pivot_normalized.shape"
   ]
  },
  {
   "cell_type": "code",
   "execution_count": 10,
   "metadata": {},
   "outputs": [],
   "source": [
    "# Take only 10k user ratings in reason of speeding up.\n",
    "pivot_normalized = pivot_normalized.iloc[:, :10000]"
   ]
  },
  {
   "cell_type": "code",
   "execution_count": 11,
   "metadata": {},
   "outputs": [],
   "source": [
    "# Replace zeros to nan for correct saving sparse vectors.\n",
    "pivot_normalized = pivot_normalized.replace(0, np.nan)\n",
    "pivot_normalized = pivot_normalized.astype('float16')"
   ]
  },
  {
   "cell_type": "code",
   "execution_count": 12,
   "metadata": {},
   "outputs": [
    {
     "data": {
      "text/html": [
       "<div>\n",
       "<style scoped>\n",
       "    .dataframe tbody tr th:only-of-type {\n",
       "        vertical-align: middle;\n",
       "    }\n",
       "\n",
       "    .dataframe tbody tr th {\n",
       "        vertical-align: top;\n",
       "    }\n",
       "\n",
       "    .dataframe thead th {\n",
       "        text-align: right;\n",
       "    }\n",
       "</style>\n",
       "<table border=\"1\" class=\"dataframe\">\n",
       "  <thead>\n",
       "    <tr style=\"text-align: right;\">\n",
       "      <th>user_id</th>\n",
       "      <th>1</th>\n",
       "      <th>2</th>\n",
       "      <th>4</th>\n",
       "      <th>5</th>\n",
       "      <th>6</th>\n",
       "      <th>7</th>\n",
       "      <th>8</th>\n",
       "      <th>9</th>\n",
       "      <th>10</th>\n",
       "      <th>11</th>\n",
       "      <th>...</th>\n",
       "      <th>10941</th>\n",
       "      <th>10942</th>\n",
       "      <th>10943</th>\n",
       "      <th>10944</th>\n",
       "      <th>10945</th>\n",
       "      <th>10946</th>\n",
       "      <th>10947</th>\n",
       "      <th>10948</th>\n",
       "      <th>10949</th>\n",
       "      <th>10950</th>\n",
       "    </tr>\n",
       "    <tr>\n",
       "      <th>book_id</th>\n",
       "      <th></th>\n",
       "      <th></th>\n",
       "      <th></th>\n",
       "      <th></th>\n",
       "      <th></th>\n",
       "      <th></th>\n",
       "      <th></th>\n",
       "      <th></th>\n",
       "      <th></th>\n",
       "      <th></th>\n",
       "      <th></th>\n",
       "      <th></th>\n",
       "      <th></th>\n",
       "      <th></th>\n",
       "      <th></th>\n",
       "      <th></th>\n",
       "      <th></th>\n",
       "      <th></th>\n",
       "      <th></th>\n",
       "      <th></th>\n",
       "      <th></th>\n",
       "    </tr>\n",
       "  </thead>\n",
       "  <tbody>\n",
       "    <tr>\n",
       "      <th>5393</th>\n",
       "      <td>NaN</td>\n",
       "      <td>NaN</td>\n",
       "      <td>NaN</td>\n",
       "      <td>NaN</td>\n",
       "      <td>NaN</td>\n",
       "      <td>NaN</td>\n",
       "      <td>NaN</td>\n",
       "      <td>NaN</td>\n",
       "      <td>NaN</td>\n",
       "      <td>NaN</td>\n",
       "      <td>...</td>\n",
       "      <td>NaN</td>\n",
       "      <td>NaN</td>\n",
       "      <td>NaN</td>\n",
       "      <td>NaN</td>\n",
       "      <td>NaN</td>\n",
       "      <td>NaN</td>\n",
       "      <td>NaN</td>\n",
       "      <td>NaN</td>\n",
       "      <td>NaN</td>\n",
       "      <td>NaN</td>\n",
       "    </tr>\n",
       "    <tr>\n",
       "      <th>4803</th>\n",
       "      <td>NaN</td>\n",
       "      <td>NaN</td>\n",
       "      <td>NaN</td>\n",
       "      <td>NaN</td>\n",
       "      <td>NaN</td>\n",
       "      <td>NaN</td>\n",
       "      <td>NaN</td>\n",
       "      <td>NaN</td>\n",
       "      <td>NaN</td>\n",
       "      <td>NaN</td>\n",
       "      <td>...</td>\n",
       "      <td>NaN</td>\n",
       "      <td>NaN</td>\n",
       "      <td>NaN</td>\n",
       "      <td>NaN</td>\n",
       "      <td>NaN</td>\n",
       "      <td>NaN</td>\n",
       "      <td>NaN</td>\n",
       "      <td>NaN</td>\n",
       "      <td>NaN</td>\n",
       "      <td>NaN</td>\n",
       "    </tr>\n",
       "    <tr>\n",
       "      <th>1333</th>\n",
       "      <td>NaN</td>\n",
       "      <td>NaN</td>\n",
       "      <td>NaN</td>\n",
       "      <td>NaN</td>\n",
       "      <td>NaN</td>\n",
       "      <td>NaN</td>\n",
       "      <td>NaN</td>\n",
       "      <td>NaN</td>\n",
       "      <td>NaN</td>\n",
       "      <td>NaN</td>\n",
       "      <td>...</td>\n",
       "      <td>NaN</td>\n",
       "      <td>NaN</td>\n",
       "      <td>NaN</td>\n",
       "      <td>NaN</td>\n",
       "      <td>NaN</td>\n",
       "      <td>NaN</td>\n",
       "      <td>NaN</td>\n",
       "      <td>NaN</td>\n",
       "      <td>NaN</td>\n",
       "      <td>NaN</td>\n",
       "    </tr>\n",
       "    <tr>\n",
       "      <th>2490</th>\n",
       "      <td>NaN</td>\n",
       "      <td>NaN</td>\n",
       "      <td>NaN</td>\n",
       "      <td>NaN</td>\n",
       "      <td>NaN</td>\n",
       "      <td>NaN</td>\n",
       "      <td>NaN</td>\n",
       "      <td>NaN</td>\n",
       "      <td>NaN</td>\n",
       "      <td>NaN</td>\n",
       "      <td>...</td>\n",
       "      <td>NaN</td>\n",
       "      <td>NaN</td>\n",
       "      <td>NaN</td>\n",
       "      <td>NaN</td>\n",
       "      <td>NaN</td>\n",
       "      <td>NaN</td>\n",
       "      <td>NaN</td>\n",
       "      <td>NaN</td>\n",
       "      <td>NaN</td>\n",
       "      <td>NaN</td>\n",
       "    </tr>\n",
       "    <tr>\n",
       "      <th>5754</th>\n",
       "      <td>NaN</td>\n",
       "      <td>NaN</td>\n",
       "      <td>NaN</td>\n",
       "      <td>NaN</td>\n",
       "      <td>NaN</td>\n",
       "      <td>NaN</td>\n",
       "      <td>NaN</td>\n",
       "      <td>NaN</td>\n",
       "      <td>NaN</td>\n",
       "      <td>NaN</td>\n",
       "      <td>...</td>\n",
       "      <td>NaN</td>\n",
       "      <td>NaN</td>\n",
       "      <td>NaN</td>\n",
       "      <td>NaN</td>\n",
       "      <td>NaN</td>\n",
       "      <td>NaN</td>\n",
       "      <td>NaN</td>\n",
       "      <td>NaN</td>\n",
       "      <td>NaN</td>\n",
       "      <td>NaN</td>\n",
       "    </tr>\n",
       "  </tbody>\n",
       "</table>\n",
       "<p>5 rows × 10000 columns</p>\n",
       "</div>"
      ],
      "text/plain": [
       "user_id  1      2      4      5      6      7      8      9      10     11     \\\n",
       "book_id                                                                         \n",
       "5393       NaN    NaN    NaN    NaN    NaN    NaN    NaN    NaN    NaN    NaN   \n",
       "4803       NaN    NaN    NaN    NaN    NaN    NaN    NaN    NaN    NaN    NaN   \n",
       "1333       NaN    NaN    NaN    NaN    NaN    NaN    NaN    NaN    NaN    NaN   \n",
       "2490       NaN    NaN    NaN    NaN    NaN    NaN    NaN    NaN    NaN    NaN   \n",
       "5754       NaN    NaN    NaN    NaN    NaN    NaN    NaN    NaN    NaN    NaN   \n",
       "\n",
       "user_id  ...  10941  10942  10943  10944  10945  10946  10947  10948  10949  \\\n",
       "book_id  ...                                                                  \n",
       "5393     ...    NaN    NaN    NaN    NaN    NaN    NaN    NaN    NaN    NaN   \n",
       "4803     ...    NaN    NaN    NaN    NaN    NaN    NaN    NaN    NaN    NaN   \n",
       "1333     ...    NaN    NaN    NaN    NaN    NaN    NaN    NaN    NaN    NaN   \n",
       "2490     ...    NaN    NaN    NaN    NaN    NaN    NaN    NaN    NaN    NaN   \n",
       "5754     ...    NaN    NaN    NaN    NaN    NaN    NaN    NaN    NaN    NaN   \n",
       "\n",
       "user_id  10950  \n",
       "book_id         \n",
       "5393       NaN  \n",
       "4803       NaN  \n",
       "1333       NaN  \n",
       "2490       NaN  \n",
       "5754       NaN  \n",
       "\n",
       "[5 rows x 10000 columns]"
      ]
     },
     "execution_count": 12,
     "metadata": {},
     "output_type": "execute_result"
    }
   ],
   "source": [
    "# Take 10 rows for testing.\n",
    "test_rows = pivot_normalized.sample(10)\n",
    "test_rows.head()"
   ]
  },
  {
   "cell_type": "code",
   "execution_count": 13,
   "metadata": {},
   "outputs": [],
   "source": [
    "# Other rows will be used to create a space.\n",
    "main_part = pivot_normalized[~pivot_normalized.index.isin(test_rows.index)]"
   ]
  },
  {
   "cell_type": "code",
   "execution_count": 14,
   "metadata": {},
   "outputs": [],
   "source": [
    "# Save the data to sparce vectors file.\n",
    "main_part.to_csv(join(path_to_spacehosting_data, 'sparse-vectors-df.csv'), header=False, index=False)"
   ]
  },
  {
   "cell_type": "code",
   "execution_count": 15,
   "metadata": {},
   "outputs": [],
   "source": [
    "# Save metadata.\n",
    "def write_metadata(meta, filename):\n",
    "    with open(filename, 'w', encoding='utf-8') as f:\n",
    "        json.dump(meta, f, ensure_ascii=False, indent=2)\n",
    "\n",
    "meta_df = books_meta[['id', 'authors', 'original_title']]\n",
    "\n",
    "test_info = meta_df[meta_df.id.isin(test_rows.index)]\n",
    "meta_df = meta_df[~meta_df.id.isin(test_rows.index)]\n",
    "\n",
    "metadata = []\n",
    "for vector in meta_df.to_dict(orient='records'):\n",
    "    metadata.append(vector)\n",
    "\n",
    "write_metadata(metadata, join(path_to_spacehosting_data, 'vectors-metadata.json'))"
   ]
  },
  {
   "cell_type": "code",
   "execution_count": 16,
   "metadata": {},
   "outputs": [
    {
     "data": {
      "text/html": [
       "<div>\n",
       "<style scoped>\n",
       "    .dataframe tbody tr th:only-of-type {\n",
       "        vertical-align: middle;\n",
       "    }\n",
       "\n",
       "    .dataframe tbody tr th {\n",
       "        vertical-align: top;\n",
       "    }\n",
       "\n",
       "    .dataframe thead th {\n",
       "        text-align: right;\n",
       "    }\n",
       "</style>\n",
       "<table border=\"1\" class=\"dataframe\">\n",
       "  <thead>\n",
       "    <tr style=\"text-align: right;\">\n",
       "      <th></th>\n",
       "      <th>id</th>\n",
       "      <th>authors</th>\n",
       "      <th>original_title</th>\n",
       "    </tr>\n",
       "  </thead>\n",
       "  <tbody>\n",
       "    <tr>\n",
       "      <th>1332</th>\n",
       "      <td>1333</td>\n",
       "      <td>Walter Isaacson</td>\n",
       "      <td>Benjamin Franklin: An American Life</td>\n",
       "    </tr>\n",
       "    <tr>\n",
       "      <th>2489</th>\n",
       "      <td>2490</td>\n",
       "      <td>Geoffrey Crayon, Washington Irving, William L....</td>\n",
       "      <td>The Sketch Book of Geoffrey Crayon, Gent</td>\n",
       "    </tr>\n",
       "    <tr>\n",
       "      <th>3949</th>\n",
       "      <td>3950</td>\n",
       "      <td>Jordan Belfort</td>\n",
       "      <td>The Wolf of Wall Street</td>\n",
       "    </tr>\n",
       "    <tr>\n",
       "      <th>4617</th>\n",
       "      <td>4618</td>\n",
       "      <td>David Baldacci</td>\n",
       "      <td>Hell's Corner</td>\n",
       "    </tr>\n",
       "    <tr>\n",
       "      <th>4802</th>\n",
       "      <td>4803</td>\n",
       "      <td>Brad Stone</td>\n",
       "      <td></td>\n",
       "    </tr>\n",
       "    <tr>\n",
       "      <th>5392</th>\n",
       "      <td>5393</td>\n",
       "      <td>Veronica Roth</td>\n",
       "      <td>Four: The Initiate</td>\n",
       "    </tr>\n",
       "    <tr>\n",
       "      <th>5753</th>\n",
       "      <td>5754</td>\n",
       "      <td>Jorge Luis Borges, Andrew Hurley</td>\n",
       "      <td>Cuentos completos</td>\n",
       "    </tr>\n",
       "    <tr>\n",
       "      <th>7496</th>\n",
       "      <td>7497</td>\n",
       "      <td>Jennifer Donnelly</td>\n",
       "      <td>The Winter Rose</td>\n",
       "    </tr>\n",
       "    <tr>\n",
       "      <th>8942</th>\n",
       "      <td>8943</td>\n",
       "      <td>Glenn Greenwald</td>\n",
       "      <td>No Place to Hide: Edward Snowden, the NSA, and...</td>\n",
       "    </tr>\n",
       "    <tr>\n",
       "      <th>9422</th>\n",
       "      <td>9423</td>\n",
       "      <td>Sarra Manning</td>\n",
       "      <td></td>\n",
       "    </tr>\n",
       "  </tbody>\n",
       "</table>\n",
       "</div>"
      ],
      "text/plain": [
       "        id                                            authors  \\\n",
       "1332  1333                                    Walter Isaacson   \n",
       "2489  2490  Geoffrey Crayon, Washington Irving, William L....   \n",
       "3949  3950                                     Jordan Belfort   \n",
       "4617  4618                                     David Baldacci   \n",
       "4802  4803                                         Brad Stone   \n",
       "5392  5393                                      Veronica Roth   \n",
       "5753  5754                   Jorge Luis Borges, Andrew Hurley   \n",
       "7496  7497                                  Jennifer Donnelly   \n",
       "8942  8943                                    Glenn Greenwald   \n",
       "9422  9423                                      Sarra Manning   \n",
       "\n",
       "                                         original_title  \n",
       "1332                Benjamin Franklin: An American Life  \n",
       "2489           The Sketch Book of Geoffrey Crayon, Gent  \n",
       "3949                            The Wolf of Wall Street  \n",
       "4617                                     Hell's Corner   \n",
       "4802                                                     \n",
       "5392                                 Four: The Initiate  \n",
       "5753                                  Cuentos completos  \n",
       "7496                                    The Winter Rose  \n",
       "8942  No Place to Hide: Edward Snowden, the NSA, and...  \n",
       "9422                                                     "
      ]
     },
     "execution_count": 16,
     "metadata": {},
     "output_type": "execute_result"
    }
   ],
   "source": [
    "test_info"
   ]
  },
  {
   "cell_type": "markdown",
   "metadata": {},
   "source": [
    "# SpaceHosting test\n",
    "\n",
    "## Setup \n",
    "\n",
    "First of all you should open `docker-compose.yaml` in SpaceHosting directory and change two lines (algorithm’s and vector’s file names) as shown below:  \n",
    "1. `- SH_INDEX_ALGORITHM=SparnnIndex.Cosine`\n",
    "2. `- SH_VECTORS_FILE_NAME=/data/sparse-vectors-df.csv`\n",
    "\n",
    "And then restart container with `./docker-compose-up.sh` command from console.\n",
    "\n",
    "## Testing"
   ]
  },
  {
   "cell_type": "code",
   "execution_count": 17,
   "metadata": {},
   "outputs": [],
   "source": [
    "# Prepare body and headers for request.\n",
    "headers = {\"Content-Type\": \"application/json\"}\n",
    "\n",
    "# k is a number of the nearest items for searching for each item in a query.\n",
    "body = {\n",
    "  \"k\": \"3\"\n",
    "}"
   ]
  },
  {
   "cell_type": "code",
   "execution_count": 18,
   "metadata": {},
   "outputs": [
    {
     "name": "stdout",
     "output_type": "stream",
     "text": [
      "[{'isSparse': True, 'dimension': 10000, 'coordinates': [0.1904296875, 0.045440673828125, 0.0128173828125, 0.130126953125, 0.125], 'coordinateIndices': [2342, 5212, 7023, 7652, 9522]}, {'isSparse': True, 'dimension': 10000, 'coordinates': [0.56591796875, 0.5, 0.040008544921875, 0.5, 0.125, 0.396484375], 'coordinateIndices': [1341, 2709, 3137, 3828, 4798, 9882]}, {'isSparse': True, 'dimension': 10000, 'coordinates': [0.55322265625, 0.28564453125, 0.291748046875, 0.07501220703125, 0.10784912109375, 0.041656494140625, 0.35009765625, 0.0196075439453125, 0.221923828125, 0.413818359375, 0.2568359375, 0.0028400421142578125, 0.290283203125, 0.0433349609375], 'coordinateIndices': [1839, 2082, 2422, 2683, 4085, 4996, 5830, 5893, 6111, 6370, 7599, 7963, 8107, 8946]}, {'isSparse': True, 'dimension': 10000, 'coordinates': [0.0333251953125, 0.174560546875, 0.2076416015625, 0.06927490234375, 0.328125], 'coordinateIndices': [2978, 3055, 7487, 7907, 8570]}, {'isSparse': True, 'dimension': 10000, 'coordinates': [0.1290283203125, 0.447509765625, 0.416748046875, 0.324951171875, 0.2156982421875, 0.4296875, 0.307373046875, 0.1666259765625, 0.39990234375, 0.318603515625, 0.333251953125, 0.302001953125, 0.2705078125, 0.2548828125, 0.25, 0.2900390625, 0.28369140625, 0.5537109375, 0.09521484375, 0.07257080078125, 0.0196075439453125, 0.10528564453125, 0.255615234375, 0.318115234375, 0.24560546875, 0.199951171875, 0.370361328125, 0.34765625, 0.058837890625], 'coordinateIndices': [330, 500, 639, 763, 778, 847, 1070, 1154, 1210, 1263, 1469, 1488, 1625, 1833, 2079, 2434, 2644, 2710, 3162, 3307, 3981, 5020, 5134, 5286, 6561, 7169, 7664, 7916, 8625]}, {'isSparse': True, 'dimension': 10000, 'coordinates': [0.5, 0.25, 0.4375, 0.2236328125, 0.5634765625, 0.0625, 0.66650390625, 0.227783203125, 0.09375, 0.172607421875, 0.27783203125, 0.03125, 0.1416015625, 0.15380859375, 0.125], 'coordinateIndices': [686, 1795, 1933, 1950, 2600, 6184, 6204, 6339, 6469, 6757, 6913, 8412, 8913, 9439, 9573]}, {'isSparse': True, 'dimension': 10000, 'coordinates': [0.298583984375, 0.3916015625, 0.066650390625, 0.2059326171875], 'coordinateIndices': [3111, 6602, 8060, 8696]}, {'isSparse': True, 'dimension': 10000, 'coordinates': [0.5, 0.39697265625], 'coordinateIndices': [9397, 9642]}, {'isSparse': True, 'dimension': 10000, 'coordinates': [0.09857177734375, 0.1385498046875, 0.1016845703125, 0.03472900390625, 0.376708984375, 0.179443359375, 0.08489990234375, 0.09222412109375, 0.06756591796875, 0.0809326171875, 0.1982421875, 0.085693359375], 'coordinateIndices': [2064, 3129, 3621, 3772, 5447, 5573, 5982, 6117, 7185, 7402, 7556, 9963]}, {'isSparse': True, 'dimension': 10000, 'coordinates': [0.5, 0.25, 0.31884765625, 0.199951171875, 0.433349609375, 0.416748046875], 'coordinateIndices': [1250, 3502, 4056, 4876, 7033, 9209]}]\n"
     ]
    }
   ],
   "source": [
    "# Make vector dictionary.\n",
    "vectors = []\n",
    "\n",
    "for row in test_rows.iterrows():\n",
    "    indexes, values = [], []\n",
    "    \n",
    "    # Find all not empty values in a row for vector. \n",
    "    for index, value in enumerate(row[1]):\n",
    "        if value > 0:\n",
    "            indexes.append(index)\n",
    "            values.append(value)\n",
    "    vectors.append({\n",
    "        \"isSparse\": True,\n",
    "        \"dimension\": test_rows.shape[1],\n",
    "        \"coordinates\": values,\n",
    "        \"coordinateIndices\": indexes\n",
    "    })\n",
    "    \n",
    "print(vectors)"
   ]
  },
  {
   "cell_type": "code",
   "execution_count": 19,
   "metadata": {},
   "outputs": [],
   "source": [
    "# Add vectors into the body of request.\n",
    "body[\"vectors\"] = vectors"
   ]
  },
  {
   "cell_type": "code",
   "execution_count": 20,
   "metadata": {},
   "outputs": [],
   "source": [
    "# Make request to SpaseHosting.\n",
    "res = requests.post('http://localhost:8080/api/v1/Search', data=json.dumps(body), headers=headers)"
   ]
  },
  {
   "cell_type": "code",
   "execution_count": 21,
   "metadata": {
    "scrolled": false
   },
   "outputs": [
    {
     "data": {
      "text/plain": [
       "[{'distance': 0.605704940453041,\n",
       "  'vector': {'isSparse': True,\n",
       "   'dimension': 10000,\n",
       "   'coordinates': [-0.375,\n",
       "    0.1904,\n",
       "    0.04544,\n",
       "    -0.04877,\n",
       "    0.01282,\n",
       "    -0.4722,\n",
       "    0.1301,\n",
       "    -0.0804,\n",
       "    -0.11584,\n",
       "    0.125],\n",
       "   'coordinateIndices': [1829,\n",
       "    2342,\n",
       "    5212,\n",
       "    7021,\n",
       "    7023,\n",
       "    7404,\n",
       "    7652,\n",
       "    8254,\n",
       "    9264,\n",
       "    9522]},\n",
       "  'data': {'id': 5393,\n",
       "   'authors': 'Veronica Roth',\n",
       "   'original_title': 'Four: The Initiate'}},\n",
       " {'distance': 0.7457501725470113,\n",
       "  'vector': {'isSparse': True,\n",
       "   'dimension': 10000,\n",
       "   'coordinates': [-0.0375,\n",
       "    -0.5166,\n",
       "    0.1904,\n",
       "    -0.1875,\n",
       "    0.2106,\n",
       "    -0.04877,\n",
       "    0.3462,\n",
       "    0.1301,\n",
       "    0.1837,\n",
       "    0.1492,\n",
       "    0.00595,\n",
       "    0.361,\n",
       "    -0.11584],\n",
       "   'coordinateIndices': [1113,\n",
       "    1917,\n",
       "    2342,\n",
       "    2737,\n",
       "    6835,\n",
       "    7021,\n",
       "    7023,\n",
       "    7652,\n",
       "    8264,\n",
       "    8337,\n",
       "    8596,\n",
       "    8791,\n",
       "    9264]},\n",
       "  'data': {'id': 2457,\n",
       "   'authors': 'Veronica Roth',\n",
       "   'original_title': 'Four: The Transfer'}},\n",
       " {'distance': 0.7978369461589946,\n",
       "  'vector': {'isSparse': True,\n",
       "   'dimension': 10000,\n",
       "   'coordinates': [0.4333,\n",
       "    0.5938,\n",
       "    0.119,\n",
       "    -0.06647,\n",
       "    0.4404,\n",
       "    0.03372,\n",
       "    -0.655,\n",
       "    0.4375,\n",
       "    0.3767,\n",
       "    0.1666,\n",
       "    0.3247,\n",
       "    0.2642,\n",
       "    0.3462,\n",
       "    0.4443,\n",
       "    0.2808,\n",
       "    0.5234,\n",
       "    0.0463,\n",
       "    0.151,\n",
       "    0.0465,\n",
       "    0.1904,\n",
       "    0.1506,\n",
       "    0.4524,\n",
       "    0.0714],\n",
       "   'coordinateIndices': [614,\n",
       "    1248,\n",
       "    1768,\n",
       "    1826,\n",
       "    2342,\n",
       "    2644,\n",
       "    4198,\n",
       "    4624,\n",
       "    5168,\n",
       "    5964,\n",
       "    6013,\n",
       "    6257,\n",
       "    7023,\n",
       "    7149,\n",
       "    7385,\n",
       "    7912,\n",
       "    7939,\n",
       "    8419,\n",
       "    8422,\n",
       "    8583,\n",
       "    9150,\n",
       "    9678,\n",
       "    9836]},\n",
       "  'data': {'id': 2272,\n",
       "   'authors': 'Stieg Larsson, Reg Keeland',\n",
       "   'original_title': 'Män som hatar kvinnor, Flickan som lekte med elden, Luftslottet som sprängdes'}}]"
      ]
     },
     "execution_count": 21,
     "metadata": {},
     "output_type": "execute_result"
    }
   ],
   "source": [
    "# Just look on full info about similar books for the first book from query.\n",
    "res.json()[0]"
   ]
  },
  {
   "cell_type": "code",
   "execution_count": 22,
   "metadata": {
    "scrolled": false
   },
   "outputs": [
    {
     "name": "stdout",
     "output_type": "stream",
     "text": [
      "For book 'Benjamin Franklin: An American Life' written by Walter Isaacson with id = 1333 the most similar books by user reviews are:\n",
      "With cosine distance = 0.605704940453041 book 'Four: The Initiate' written by Veronica Roth with id = 5393.\n",
      "With cosine distance = 0.7457501725470113 book 'Four: The Transfer' written by Veronica Roth with id = 2457.\n",
      "With cosine distance = 0.7978369461589946 book 'Män som hatar kvinnor, Flickan som lekte med elden, Luftslottet som sprängdes' written by Stieg Larsson, Reg Keeland with id = 2272.\n",
      "------------------------------\n",
      "For book 'The Sketch Book of Geoffrey Crayon, Gent' written by Geoffrey Crayon, Washington Irving, William L. Hedges with id = 2490 the most similar books by user reviews are:\n",
      "With cosine distance = 0.32404474250071114 book '' written by Brad Stone with id = 4803.\n",
      "With cosine distance = 0.7832853551481886 book 'Psycho' written by Robert Bloch with id = 2668.\n",
      "With cosine distance = 0.7959049399447761 book 'Tell Me Your Dreams' written by Sidney Sheldon with id = 2323.\n",
      "------------------------------\n",
      "For book 'The Wolf of Wall Street' written by Jordan Belfort with id = 3950 the most similar books by user reviews are:\n",
      "With cosine distance = 0.34061368219397437 book 'Benjamin Franklin: An American Life' written by Walter Isaacson with id = 1333.\n",
      "With cosine distance = 0.6915215983637125 book 'The Little Old Lady Who Was Not Afraid of Anything' written by Linda Williams, Megan Lloyd with id = 7850.\n",
      "With cosine distance = 0.8028638173748752 book 'Rainbow Six' written by Tom Clancy with id = 2673.\n",
      "------------------------------\n",
      "For book 'Hell's Corner ' written by David Baldacci with id = 4618 the most similar books by user reviews are:\n",
      "With cosine distance = 0.1259872609573568 book 'The Sketch Book of Geoffrey Crayon, Gent' written by Geoffrey Crayon, Washington Irving, William L. Hedges with id = 2490.\n",
      "With cosine distance = 0.5443529623458505 book 'Heal Your Body' written by Louise L. Hay with id = 7419.\n",
      "With cosine distance = 0.6701127427425597 book 'Money, and the Law of Attraction: Learning to Attract Wealth, Health, and Happiness' written by Esther Hicks, Jerry Hicks with id = 9865.\n",
      "------------------------------\n",
      "For book '' written by Brad Stone with id = 4803 the most similar books by user reviews are:\n",
      "With cosine distance = 0.046209254822369816 book 'Cuentos completos' written by Jorge Luis Borges, Andrew Hurley with id = 5754.\n",
      "With cosine distance = 0.7974639509397226 book 'Labyrinths' written by Jorge Luis Borges, Donald A. Yates, James E. Irby, André Maurois with id = 4336.\n",
      "With cosine distance = 0.8316934380921628 book '2666' written by Roberto Bolaño with id = 4509.\n",
      "------------------------------\n",
      "For book 'Four: The Initiate' written by Veronica Roth with id = 5393 the most similar books by user reviews are:\n",
      "With cosine distance = 0.02443970126137618 book 'The Winter Rose' written by Jennifer Donnelly with id = 7497.\n",
      "With cosine distance = 0.601612048765922 book 'The Tea Rose' written by Jennifer Donnelly with id = 4497.\n",
      "With cosine distance = 0.8597666635456016 book '' written by Deb Perelman with id = 6971.\n",
      "------------------------------\n",
      "For book 'Cuentos completos' written by Jorge Luis Borges, Andrew Hurley with id = 5754 the most similar books by user reviews are:\n",
      "With cosine distance = 0.603133321711733 book 'The Wolf of Wall Street' written by Jordan Belfort with id = 3950.\n",
      "With cosine distance = 0.6772464279819534 book 'Killer ' written by Sara Shepard with id = 2685.\n",
      "With cosine distance = 0.68967694117709 book 'The Forsyte Saga' written by John Galsworthy with id = 6909.\n",
      "------------------------------\n",
      "For book 'The Winter Rose' written by Jennifer Donnelly with id = 7497 the most similar books by user reviews are:\n",
      "With cosine distance = 0.0688436714406242 book '' written by Sarra Manning with id = 9423.\n",
      "With cosine distance = 0.3782006309372943 book 'A Thousand Boy Kisses' written by Tillie Cole with id = 9913.\n",
      "With cosine distance = 0.43205932485956444 book 'Into the Deep' written by Samantha Young with id = 8494.\n",
      "------------------------------\n",
      "For book 'No Place to Hide: Edward Snowden, the NSA, and the U.S. Surveillance State' written by Glenn Greenwald with id = 8943 the most similar books by user reviews are:\n",
      "With cosine distance = 0.1364169936118318 book 'Hell's Corner ' written by David Baldacci with id = 4618.\n",
      "With cosine distance = 0.5849844884594624 book 'The Affair' written by Lee Child with id = 1876.\n",
      "With cosine distance = 0.5861075063460439 book 'Killing Floor' written by Lee Child with id = 477.\n",
      "------------------------------\n",
      "For book '' written by Sarra Manning with id = 9423 the most similar books by user reviews are:\n",
      "With cosine distance = 0.4523992576155186 book 'No Place to Hide: Edward Snowden, the NSA, and the U.S. Surveillance State' written by Glenn Greenwald with id = 8943.\n",
      "With cosine distance = 0.7270497037545303 book 'Bad Science: Quacks, Hacks, and Big Pharma Flacks' written by Ben Goldacre with id = 3645.\n",
      "With cosine distance = 0.7768298971592354 book 'Wieża Jaskółki' written by Andrzej Sapkowski with id = 7069.\n",
      "------------------------------\n"
     ]
    }
   ],
   "source": [
    "# Print info about similar books.\n",
    "for index, info in enumerate(test_info.iterrows()):\n",
    "    id, authors, original_title = info[1]\n",
    "    print(f'For book \\'{original_title}\\' written by {authors} with id = {id} the most similar books by user reviews are:')\n",
    "    \n",
    "    for i in res.json()[index]:\n",
    "        dist, book_id, title, authors = i['distance'], i['data']['id'], i['data']['original_title'], i['data']['authors']\n",
    "        \n",
    "        print(f'With cosine distance = {dist} book \\'{title}\\' written by {authors} with id = {book_id}.')\n",
    "        \n",
    "    print('-' * 30)"
   ]
  },
  {
   "cell_type": "markdown",
   "metadata": {},
   "source": [
    "### Conclusion\n",
    "\n",
    "As you can see, not all similar books are really similar. The main reason is reducing the number of users in initial dataset to 10k."
   ]
  }
 ],
 "metadata": {
  "kernelspec": {
   "display_name": "Python 3",
   "language": "python",
   "name": "python3"
  },
  "language_info": {
   "codemirror_mode": {
    "name": "ipython",
    "version": 3
   },
   "file_extension": ".py",
   "mimetype": "text/x-python",
   "name": "python",
   "nbconvert_exporter": "python",
   "pygments_lexer": "ipython3",
   "version": "3.8.3"
  }
 },
 "nbformat": 4,
 "nbformat_minor": 4
}
