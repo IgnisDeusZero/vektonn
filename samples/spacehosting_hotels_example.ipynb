{
 "cells": [
  {
   "cell_type": "code",
   "execution_count": 1,
   "metadata": {
    "ExecuteTime": {
     "end_time": "2021-07-13T12:22:18.006368Z",
     "start_time": "2021-07-13T12:22:16.584027Z"
    },
    "scrolled": true
   },
   "outputs": [],
   "source": [
    "import ast\n",
    "import json\n",
    "import requests\n",
    "\n",
    "from geopy.geocoders import Nominatim\n",
    "import matplotlib.pyplot as plt\n",
    "import nltk\n",
    "from nltk import word_tokenize\n",
    "from nltk.stem import WordNetLemmatizer\n",
    "import numpy as np\n",
    "import pandas as pd\n",
    "from pathlib import Path\n",
    "from sklearn.feature_extraction.text import TfidfVectorizer\n",
    "from tqdm.auto import tqdm"
   ]
  },
  {
   "cell_type": "markdown",
   "metadata": {},
   "source": [
    "# space-hosting preparation"
   ]
  },
  {
   "cell_type": "markdown",
   "metadata": {},
   "source": [
    "Firstly we need to clone `space-hosting` from github:\n",
    "\n",
    "`git clone https://github.com/kontur-model-ops/space-hosting.git`"
   ]
  },
  {
   "cell_type": "markdown",
   "metadata": {},
   "source": [
    "Then let's define path to space-hosting data directory."
   ]
  },
  {
   "cell_type": "code",
   "execution_count": 2,
   "metadata": {},
   "outputs": [],
   "source": [
    "space_hosting_data_path = Path('space-hosting/.data-samples')"
   ]
  },
  {
   "cell_type": "markdown",
   "metadata": {},
   "source": [
    "# Hotel Reviews Data in Europe\n",
    "\n",
    "In presented notebook we will use Hotel Reviews Data in Europe dataset for searching hotels by user's query. For each hotel in dataset we will create a vector. That vector will be an average of all hotel's review vectors.\n",
    "At the end we will try to find hotels suitable to some user's query using Space-Hosting.\n",
    "\n",
    "Dataset - https://www.kaggle.com/jiashenliu/515k-hotel-reviews-data-in-europe\n",
    "\n",
    "We need to download it and put to `./data` directory."
   ]
  },
  {
   "cell_type": "markdown",
   "metadata": {},
   "source": [
    "## Data loading"
   ]
  },
  {
   "cell_type": "code",
   "execution_count": 3,
   "metadata": {
    "ExecuteTime": {
     "end_time": "2021-07-13T12:22:20.559797Z",
     "start_time": "2021-07-13T12:22:18.009683Z"
    },
    "scrolled": true
   },
   "outputs": [
    {
     "data": {
      "text/plain": [
       "(515738, 17)"
      ]
     },
     "execution_count": 3,
     "metadata": {},
     "output_type": "execute_result"
    }
   ],
   "source": [
    "hotel_reviews = pd.read_csv('data/Hotel_Reviews.csv')\n",
    "hotel_reviews.shape"
   ]
  },
  {
   "cell_type": "markdown",
   "metadata": {},
   "source": [
    "## EDA"
   ]
  },
  {
   "cell_type": "markdown",
   "metadata": {},
   "source": [
    "### Hotel statistics"
   ]
  },
  {
   "cell_type": "markdown",
   "metadata": {},
   "source": [
    "Number of hotels."
   ]
  },
  {
   "cell_type": "code",
   "execution_count": 4,
   "metadata": {
    "ExecuteTime": {
     "end_time": "2021-07-13T12:22:20.628242Z",
     "start_time": "2021-07-13T12:22:20.562275Z"
    }
   },
   "outputs": [
    {
     "data": {
      "text/plain": [
       "1492"
      ]
     },
     "execution_count": 4,
     "metadata": {},
     "output_type": "execute_result"
    }
   ],
   "source": [
    "hotel_reviews.Hotel_Name.nunique()"
   ]
  },
  {
   "cell_type": "markdown",
   "metadata": {},
   "source": [
    "Hotel average score histogram."
   ]
  },
  {
   "cell_type": "code",
   "execution_count": 5,
   "metadata": {
    "ExecuteTime": {
     "end_time": "2021-07-13T12:22:20.848631Z",
     "start_time": "2021-07-13T12:22:20.630327Z"
    }
   },
   "outputs": [
    {
     "data": {
      "image/png": "[encoded data removed]",
      "text/plain": [
       "<Figure size 432x288 with 1 Axes>"
      ]
     },
     "metadata": {
      "needs_background": "light"
     },
     "output_type": "display_data"
    }
   ],
   "source": [
    "hotel_reviews.groupby('Hotel_Name')['Reviewer_Score'].mean().hist(bins=20, range=[0, 10])\n",
    "plt.xticks(range(0, 11))\n",
    "plt.xlabel('Average score')\n",
    "plt.ylabel('Amount of hotels')\n",
    "plt.show()"
   ]
  },
  {
   "cell_type": "markdown",
   "metadata": {},
   "source": [
    "### Hotel Locations"
   ]
  },
  {
   "cell_type": "code",
   "execution_count": 6,
   "metadata": {
    "ExecuteTime": {
     "end_time": "2021-07-13T12:22:22.794009Z",
     "start_time": "2021-07-13T12:22:20.851224Z"
    }
   },
   "outputs": [],
   "source": [
    "cities = hotel_reviews['Hotel_Address'].str.split().str[-2].unique()"
   ]
  },
  {
   "cell_type": "code",
   "execution_count": 7,
   "metadata": {
    "ExecuteTime": {
     "end_time": "2021-07-13T12:22:23.003449Z",
     "start_time": "2021-07-13T12:22:22.796908Z"
    }
   },
   "outputs": [],
   "source": [
    "cities = np.where(cities == 'United', 'London', cities)"
   ]
  },
  {
   "cell_type": "code",
   "execution_count": 8,
   "metadata": {
    "ExecuteTime": {
     "end_time": "2021-07-13T12:22:23.054113Z",
     "start_time": "2021-07-13T12:22:23.005277Z"
    }
   },
   "outputs": [],
   "source": [
    "geolocator = Nominatim(user_agent=\"my_app\")"
   ]
  },
  {
   "cell_type": "code",
   "execution_count": 9,
   "metadata": {
    "ExecuteTime": {
     "end_time": "2021-07-13T12:22:28.050825Z",
     "start_time": "2021-07-13T12:22:23.058640Z"
    }
   },
   "outputs": [
    {
     "data": {
      "image/png": "[encoded data removed]",
      "text/plain": [
       "<Figure size 1080x504 with 1 Axes>"
      ]
     },
     "metadata": {
      "needs_background": "light"
     },
     "output_type": "display_data"
    }
   ],
   "source": [
    "plt.figure(figsize=(15, 7))\n",
    "plt.plot(hotel_reviews['lng'], hotel_reviews['lat'], 'ro')\n",
    "for city in cities:\n",
    "    location = geolocator.geocode(city)\n",
    "    plt.plot(location.longitude, location.latitude, 'bo')\n",
    "    plt.annotate(city, (location.longitude, location.latitude))\n",
    "plt.xlabel('longitude')\n",
    "plt.ylabel('latitude')\n",
    "plt.grid()\n",
    "plt.xticks(range(-1, 18))\n",
    "plt.yticks(range(41, 54))\n",
    "plt.show()"
   ]
  },
  {
   "cell_type": "markdown",
   "metadata": {},
   "source": [
    "## Hotel reviews embeddings"
   ]
  },
  {
   "cell_type": "markdown",
   "metadata": {},
   "source": [
    "For embeddings generation we are going to use TfIdf.\n",
    "\n",
    "Before vectorization we want to lemmatize words in reviews for better results."
   ]
  },
  {
   "cell_type": "code",
   "execution_count": 10,
   "metadata": {
    "ExecuteTime": {
     "end_time": "2021-07-13T12:22:28.348205Z",
     "start_time": "2021-07-13T12:22:28.054798Z"
    }
   },
   "outputs": [
    {
     "name": "stderr",
     "output_type": "stream",
     "text": [
      "[nltk_data] Downloading package wordnet to\n",
      "[nltk_data]     /Users/ilyamezentsev/nltk_data...\n",
      "[nltk_data]   Package wordnet is already up-to-date!\n",
      "[nltk_data] Downloading package punkt to\n",
      "[nltk_data]     /Users/ilyamezentsev/nltk_data...\n",
      "[nltk_data]   Package punkt is already up-to-date!\n"
     ]
    },
    {
     "data": {
      "text/plain": [
       "True"
      ]
     },
     "execution_count": 10,
     "metadata": {},
     "output_type": "execute_result"
    }
   ],
   "source": [
    "nltk.download('wordnet')\n",
    "nltk.download('punkt')"
   ]
  },
  {
   "cell_type": "markdown",
   "metadata": {},
   "source": [
    "Let's use only positive reviews."
   ]
  },
  {
   "cell_type": "code",
   "execution_count": 11,
   "metadata": {
    "ExecuteTime": {
     "end_time": "2021-07-13T12:22:28.956522Z",
     "start_time": "2021-07-13T12:22:28.350239Z"
    }
   },
   "outputs": [
    {
     "data": {
      "text/plain": [
       "(479792, 17)"
      ]
     },
     "execution_count": 11,
     "metadata": {},
     "output_type": "execute_result"
    }
   ],
   "source": [
    "hotel_positive_reviews = hotel_reviews.copy()\n",
    "hotel_positive_reviews['Positive_Review'] = hotel_positive_reviews['Positive_Review'].replace('No Positive', np.nan)\n",
    "hotel_positive_reviews = hotel_positive_reviews.dropna(subset=['Positive_Review']).reset_index(drop=True)\n",
    "hotel_positive_reviews.shape"
   ]
  },
  {
   "cell_type": "markdown",
   "metadata": {},
   "source": [
    "### Text lemmatization."
   ]
  },
  {
   "cell_type": "code",
   "execution_count": 12,
   "metadata": {
    "ExecuteTime": {
     "end_time": "2021-07-13T12:24:06.551676Z",
     "start_time": "2021-07-13T12:22:28.959212Z"
    }
   },
   "outputs": [
    {
     "data": {
      "application/vnd.jupyter.widget-view+json": {
       "model_id": "8d9e93e38c3e4d968713cbd30cc4cb06",
       "version_major": 2,
       "version_minor": 0
      },
      "text/plain": [
       "  0%|          | 0/479792 [00:00<?, ?it/s]"
      ]
     },
     "metadata": {},
     "output_type": "display_data"
    }
   ],
   "source": [
    "lemmatizer = WordNetLemmatizer()\n",
    "tokenized_text = []\n",
    "\n",
    "for sentence in tqdm(hotel_positive_reviews['Positive_Review'].values):\n",
    "    tokenized_sentence = ' '.join([lemmatizer.lemmatize(x).lower() for x in word_tokenize(sentence)])\n",
    "    tokenized_text.append(tokenized_sentence)\n",
    "    \n",
    "hotel_positive_reviews['Positive_Review_lemmatized'] = tokenized_text"
   ]
  },
  {
   "cell_type": "markdown",
   "metadata": {
    "ExecuteTime": {
     "end_time": "2021-07-13T11:51:33.895668Z",
     "start_time": "2021-07-13T11:55:19.505Z"
    }
   },
   "source": [
    "### Text vectorization."
   ]
  },
  {
   "cell_type": "code",
   "execution_count": 13,
   "metadata": {
    "ExecuteTime": {
     "end_time": "2021-07-13T12:24:20.949729Z",
     "start_time": "2021-07-13T12:24:06.553734Z"
    }
   },
   "outputs": [
    {
     "data": {
      "text/plain": [
       "(479792, 128)"
      ]
     },
     "execution_count": 13,
     "metadata": {},
     "output_type": "execute_result"
    }
   ],
   "source": [
    "vectorizer = TfidfVectorizer(max_features=128, stop_words='english')\n",
    "vectorized_text = vectorizer.fit_transform(hotel_positive_reviews['Positive_Review_lemmatized'].values).toarray()\n",
    "vectorized_text.shape"
   ]
  },
  {
   "cell_type": "markdown",
   "metadata": {},
   "source": [
    "Calculating the average review vector for each hotel."
   ]
  },
  {
   "cell_type": "code",
   "execution_count": 14,
   "metadata": {
    "ExecuteTime": {
     "end_time": "2021-07-13T12:25:21.126586Z",
     "start_time": "2021-07-13T12:24:20.951549Z"
    }
   },
   "outputs": [
    {
     "data": {
      "application/vnd.jupyter.widget-view+json": {
       "model_id": "ca26e07ab7a74f7f87b01b2c7bab0a22",
       "version_major": 2,
       "version_minor": 0
      },
      "text/plain": [
       "  0%|          | 0/1492 [00:00<?, ?it/s]"
      ]
     },
     "metadata": {},
     "output_type": "display_data"
    }
   ],
   "source": [
    "hotel_names = hotel_positive_reviews['Hotel_Name'].unique()\n",
    "\n",
    "final_vectors = np.zeros((len(hotel_names), vectorized_text.shape[1]))\n",
    "\n",
    "for i, hotel_name in enumerate(tqdm(hotel_positive_reviews['Hotel_Name'].unique())):\n",
    "    indexes = hotel_positive_reviews[hotel_positive_reviews['Hotel_Name'] == hotel_name].index\n",
    "    final_vectors[i, :] = vectorized_text[indexes].mean(axis=0)"
   ]
  },
  {
   "cell_type": "markdown",
   "metadata": {},
   "source": [
    "### Example"
   ]
  },
  {
   "cell_type": "code",
   "execution_count": 15,
   "metadata": {
    "ExecuteTime": {
     "end_time": "2021-07-13T12:25:21.136002Z",
     "start_time": "2021-07-13T12:25:21.128216Z"
    }
   },
   "outputs": [
    {
     "name": "stdout",
     "output_type": "stream",
     "text": [
      "Hotel Arena:  Only the park outside of the hotel was beautiful \n",
      "(1, 128)\n"
     ]
    }
   ],
   "source": [
    "def prepare_text(review, vectorizer):\n",
    "    tokenized_review = ' '.join([lemmatizer.lemmatize(x).lower() for x in word_tokenize(review)])\n",
    "    return vectorizer.transform([tokenized_review]).toarray()\n",
    "\n",
    "review_idx = 0\n",
    "review = hotel_reviews['Positive_Review'][review_idx]\n",
    "print(f'{hotel_reviews[\"Hotel_Name\"][review_idx]}: {review}')\n",
    "\n",
    "review_vector = prepare_text(review, vectorizer)\n",
    "print(review_vector.shape)"
   ]
  },
  {
   "cell_type": "code",
   "execution_count": 16,
   "metadata": {
    "ExecuteTime": {
     "end_time": "2021-07-13T12:25:21.447735Z",
     "start_time": "2021-07-13T12:25:21.137548Z"
    }
   },
   "outputs": [
    {
     "data": {
      "text/plain": [
       "'Hotel Seven One Seven'"
      ]
     },
     "execution_count": 16,
     "metadata": {},
     "output_type": "execute_result"
    }
   ],
   "source": [
    "hotel_names[np.linalg.norm(final_vectors - review_vector, axis=1).argmin()]"
   ]
  },
  {
   "cell_type": "markdown",
   "metadata": {},
   "source": [
    "### Saving"
   ]
  },
  {
   "cell_type": "markdown",
   "metadata": {},
   "source": [
    "Hotel embeddings."
   ]
  },
  {
   "cell_type": "code",
   "execution_count": 17,
   "metadata": {
    "ExecuteTime": {
     "end_time": "2021-07-13T12:25:21.452067Z",
     "start_time": "2021-07-13T12:25:21.449115Z"
    }
   },
   "outputs": [],
   "source": [
    "vector_df = pd.DataFrame(final_vectors)"
   ]
  },
  {
   "cell_type": "code",
   "execution_count": 18,
   "metadata": {
    "ExecuteTime": {
     "end_time": "2021-07-13T12:25:30.007748Z",
     "start_time": "2021-07-13T12:25:21.453485Z"
    }
   },
   "outputs": [],
   "source": [
    "vector_df.to_csv(space_hosting_data_path / 'vectors-df.csv', header=False, index=False)"
   ]
  },
  {
   "cell_type": "markdown",
   "metadata": {},
   "source": [
    "Hotel metadata."
   ]
  },
  {
   "cell_type": "code",
   "execution_count": 19,
   "metadata": {
    "ExecuteTime": {
     "end_time": "2021-07-13T12:32:48.363265Z",
     "start_time": "2021-07-13T12:32:48.356968Z"
    }
   },
   "outputs": [],
   "source": [
    "metadata = pd.DataFrame({'Hotel_Name': hotel_names})"
   ]
  },
  {
   "cell_type": "code",
   "execution_count": 20,
   "metadata": {
    "ExecuteTime": {
     "end_time": "2021-07-13T12:32:49.385289Z",
     "start_time": "2021-07-13T12:32:49.199080Z"
    }
   },
   "outputs": [],
   "source": [
    "hotel2average_score = hotel_reviews.groupby('Hotel_Name')['Reviewer_Score'].mean().to_dict()\n",
    "hotel2longitude = hotel_reviews.groupby('Hotel_Name')['lng'].mean().to_dict()\n",
    "hotel2latitude = hotel_reviews.groupby('Hotel_Name')['lat'].mean().to_dict()"
   ]
  },
  {
   "cell_type": "code",
   "execution_count": 21,
   "metadata": {
    "ExecuteTime": {
     "end_time": "2021-07-13T12:32:49.444657Z",
     "start_time": "2021-07-13T12:32:49.429156Z"
    }
   },
   "outputs": [],
   "source": [
    "metadata['Average_Score'] = metadata['Hotel_Name'].map(hotel2average_score)\n",
    "metadata['Longitude'] = metadata['Hotel_Name'].map(hotel2longitude)\n",
    "metadata['Latitude'] = metadata['Hotel_Name'].map(hotel2latitude)"
   ]
  },
  {
   "cell_type": "code",
   "execution_count": 22,
   "metadata": {
    "ExecuteTime": {
     "end_time": "2021-07-13T12:32:50.018162Z",
     "start_time": "2021-07-13T12:32:50.011944Z"
    }
   },
   "outputs": [],
   "source": [
    "metadata['id'] = metadata.index"
   ]
  },
  {
   "cell_type": "code",
   "execution_count": 23,
   "metadata": {
    "ExecuteTime": {
     "end_time": "2021-07-13T12:32:50.843912Z",
     "start_time": "2021-07-13T12:32:50.835294Z"
    }
   },
   "outputs": [],
   "source": [
    "metadata.to_json(space_hosting_data_path / 'vectors-metadata.json', orient='records')"
   ]
  },
  {
   "cell_type": "markdown",
   "metadata": {},
   "source": [
    "## Search in space-hosting"
   ]
  },
  {
   "cell_type": "markdown",
   "metadata": {},
   "source": [
    "Now we need to run space-hosting.\n",
    "\n",
    "1. We have already saved our vectors to directory `space-hosting/.data-samples`.\n",
    "2. Now we need to run command `./docker-compose-up.sh` from directory `space-hosting`."
   ]
  },
  {
   "cell_type": "markdown",
   "metadata": {},
   "source": [
    "Let's imagine a user1 who pays attention on view from hotel room window, quality of breakfast and wants to relax. \n",
    "And user2 who wants to stay in hotel in quiet distrtict and is going to move to next destination after sleeping on comfortable bed.\n",
    "\n",
    "Probably their search queries would look like that:"
   ]
  },
  {
   "cell_type": "code",
   "execution_count": 24,
   "metadata": {},
   "outputs": [],
   "source": [
    "user_query1 = 'Hotel with beautiful view of old town, tasty breakfast and spa'\n",
    "user_query2 = 'Hotel in quiet place, not far from train station and with huge bed'"
   ]
  },
  {
   "cell_type": "markdown",
   "metadata": {},
   "source": [
    "We have to create a vector representation of the users' queries."
   ]
  },
  {
   "cell_type": "code",
   "execution_count": 25,
   "metadata": {},
   "outputs": [],
   "source": [
    "user_query_vector1 = prepare_text(user_query1, vectorizer)\n",
    "user_query_vector2 = prepare_text(user_query2, vectorizer)"
   ]
  },
  {
   "cell_type": "markdown",
   "metadata": {},
   "source": [
    "And then we search in space for vectors similar to users' query vectors."
   ]
  },
  {
   "cell_type": "code",
   "execution_count": 26,
   "metadata": {},
   "outputs": [],
   "source": [
    "headers = {\"Content-Type\": \"application/json\"}\n",
    "\n",
    "body = json.dumps({\n",
    "  \"k\": \"5\",\n",
    "  \"vectors\": [\n",
    "    {\n",
    "      \"isSparse\": False,\n",
    "      \"dimension\": user_query_vector1.shape[1],\n",
    "      \"coordinates\": list(user_query_vector1[0])\n",
    "    },\n",
    "    {\n",
    "      \"isSparse\": False,\n",
    "      \"dimension\": user_query_vector2.shape[1],\n",
    "      \"coordinates\": list(user_query_vector2[0])\n",
    "    },\n",
    "  ]\n",
    "})"
   ]
  },
  {
   "cell_type": "code",
   "execution_count": 27,
   "metadata": {
    "scrolled": false
   },
   "outputs": [
    {
     "data": {
      "text/plain": [
       "<Response [200]>"
      ]
     },
     "execution_count": 27,
     "metadata": {},
     "output_type": "execute_result"
    }
   ],
   "source": [
    "res = requests.post('http://localhost:8080/api/v1/Search', data=body, headers=headers)\n",
    "res"
   ]
  },
  {
   "cell_type": "markdown",
   "metadata": {},
   "source": [
    "Which hotels have most suitable reviews? Let's see"
   ]
  },
  {
   "cell_type": "code",
   "execution_count": 28,
   "metadata": {},
   "outputs": [
    {
     "name": "stdout",
     "output_type": "stream",
     "text": [
      "For query \"Hotel with beautiful view of old town, tasty breakfast and spa\" following hotels are recommended:\n",
      "Austria Trend Hotel Schloss Wilhelminenberg Wien\n",
      "Gran Hotel La Florida\n",
      "Hotel Miramar Barcelona GL\n",
      "Novotel London Canary Wharf\n",
      "Shangri La Hotel at The Shard London\n",
      "\n",
      "For query \"Hotel in quiet place, not far from train station and with huge bed\" following hotels are recommended:\n",
      "AC Hotel Sants a Marriott Lifestyle Hotel\n",
      "Barcel Sants\n",
      "AZIMUT Hotel Vienna\n",
      "Hotel Zeitgeist Vienna Hauptbahnhof\n",
      "Urban Lodge Hotel\n",
      "\n"
     ]
    }
   ],
   "source": [
    "for user_query, data_points in zip([user_query1, user_query2], res.json()):\n",
    "    print(f'For query \"{user_query}\" following hotels are recommended:')\n",
    "    for data_point in data_points:\n",
    "        print(data_point['data']['Hotel_Name'])\n",
    "    print()"
   ]
  }
 ],
 "metadata": {
  "kernelspec": {
   "display_name": "Python 3",
   "language": "python",
   "name": "python3"
  },
  "language_info": {
   "codemirror_mode": {
    "name": "ipython",
    "version": 3
   },
   "file_extension": ".py",
   "mimetype": "text/x-python",
   "name": "python",
   "nbconvert_exporter": "python",
   "pygments_lexer": "ipython3",
   "version": "3.7.10"
  },
  "toc": {
   "base_numbering": 1,
   "nav_menu": {},
   "number_sections": true,
   "sideBar": true,
   "skip_h1_title": false,
   "title_cell": "Table of Contents",
   "title_sidebar": "Contents",
   "toc_cell": false,
   "toc_position": {},
   "toc_section_display": true,
   "toc_window_display": false
  }
 },
 "nbformat": 4,
 "nbformat_minor": 2
}
